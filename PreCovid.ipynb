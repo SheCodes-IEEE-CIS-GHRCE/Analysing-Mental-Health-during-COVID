{
  "nbformat": 4,
  "nbformat_minor": 0,
  "metadata": {
    "colab": {
      "name": "PreCovid.ipynb",
      "provenance": [],
      "collapsed_sections": [],
      "mount_file_id": "11ToEWhbgv6taivYL1u27SlPPotRwK4j6",
      "authorship_tag": "ABX9TyPSvo/ZgRSgEcfXfH1b9EfV",
      "include_colab_link": true
    },
    "kernelspec": {
      "name": "python3",
      "display_name": "Python 3"
    }
  },
  "cells": [
    {
      "cell_type": "markdown",
      "metadata": {
        "id": "view-in-github",
        "colab_type": "text"
      },
      "source": [
        "<a href=\"https://colab.research.google.com/github/smriti-nayak/Analysing-Mental-Health-during-COVID/blob/main/PreCovid.ipynb\" target=\"_parent\"><img src=\"https://colab.research.google.com/assets/colab-badge.svg\" alt=\"Open In Colab\"/></a>"
      ]
    },
    {
      "cell_type": "markdown",
      "metadata": {
        "id": "ykXT5O-Mjsuv"
      },
      "source": [
        "## 1. Loading and Exploring the Dataset"
      ]
    },
    {
      "cell_type": "code",
      "metadata": {
        "id": "GRWtonS9j28R",
        "outputId": "cc0acac5-1041-488f-f984-9c3e2747b408",
        "colab": {
          "base_uri": "https://localhost:8080/",
          "height": 491
        }
      },
      "source": [
        "import pandas as pd\n",
        "data = pd.read_csv('/content/drive/My Drive/Datasets/Pre Covid.csv')\n",
        "data.head(15)"
      ],
      "execution_count": null,
      "outputs": [
        {
          "output_type": "execute_result",
          "data": {
            "text/html": [
              "<div>\n",
              "<style scoped>\n",
              "    .dataframe tbody tr th:only-of-type {\n",
              "        vertical-align: middle;\n",
              "    }\n",
              "\n",
              "    .dataframe tbody tr th {\n",
              "        vertical-align: top;\n",
              "    }\n",
              "\n",
              "    .dataframe thead th {\n",
              "        text-align: right;\n",
              "    }\n",
              "</style>\n",
              "<table border=\"1\" class=\"dataframe\">\n",
              "  <thead>\n",
              "    <tr style=\"text-align: right;\">\n",
              "      <th></th>\n",
              "      <th>tweets</th>\n",
              "      <th>labels</th>\n",
              "    </tr>\n",
              "  </thead>\n",
              "  <tbody>\n",
              "    <tr>\n",
              "      <th>0</th>\n",
              "      <td>@AvonteNikole im followin your lil sis  she ju...</td>\n",
              "      <td>0</td>\n",
              "    </tr>\n",
              "    <tr>\n",
              "      <th>1</th>\n",
              "      <td>@TimmyGrunt &amp;quot;what a waste of eyes&amp;quot;</td>\n",
              "      <td>0</td>\n",
              "    </tr>\n",
              "    <tr>\n",
              "      <th>2</th>\n",
              "      <td>fusion brought it tonight! Love my church fam....</td>\n",
              "      <td>0</td>\n",
              "    </tr>\n",
              "    <tr>\n",
              "      <th>3</th>\n",
              "      <td>@JackAllTimeLow @AlexAllTimeLow Have an AWESOM...</td>\n",
              "      <td>0</td>\n",
              "    </tr>\n",
              "    <tr>\n",
              "      <th>4</th>\n",
              "      <td>@BigBOnTheRoad I say yes! Parking sucks and fo...</td>\n",
              "      <td>0</td>\n",
              "    </tr>\n",
              "    <tr>\n",
              "      <th>5</th>\n",
              "      <td>Heading to the mall. Had a nice breakfast/conv...</td>\n",
              "      <td>0</td>\n",
              "    </tr>\n",
              "    <tr>\n",
              "      <th>6</th>\n",
              "      <td>@lophty_heights, Hey how'd you find me on here...</td>\n",
              "      <td>0</td>\n",
              "    </tr>\n",
              "    <tr>\n",
              "      <th>7</th>\n",
              "      <td>@mileycyrus Great movie and keep up the good w...</td>\n",
              "      <td>0</td>\n",
              "    </tr>\n",
              "    <tr>\n",
              "      <th>8</th>\n",
              "      <td>Check out 'Cinema Bizarre - Melbourne, VIC' at...</td>\n",
              "      <td>0</td>\n",
              "    </tr>\n",
              "    <tr>\n",
              "      <th>9</th>\n",
              "      <td>goodnight  &amp;amp; this one is final.</td>\n",
              "      <td>0</td>\n",
              "    </tr>\n",
              "    <tr>\n",
              "      <th>10</th>\n",
              "      <td>What a lovely Saturday morning! I love winter</td>\n",
              "      <td>0</td>\n",
              "    </tr>\n",
              "    <tr>\n",
              "      <th>11</th>\n",
              "      <td>More than 1 in 20 US children and teens have a...</td>\n",
              "      <td>1</td>\n",
              "    </tr>\n",
              "    <tr>\n",
              "      <th>12</th>\n",
              "      <td>@mannykimchi technically first college year......</td>\n",
              "      <td>0</td>\n",
              "    </tr>\n",
              "    <tr>\n",
              "      <th>13</th>\n",
              "      <td>@ksprior post something moron</td>\n",
              "      <td>0</td>\n",
              "    </tr>\n",
              "    <tr>\n",
              "      <th>14</th>\n",
              "      <td>the end of 2014 - 2016 , was my worst yrs &lt;Emo...</td>\n",
              "      <td>1</td>\n",
              "    </tr>\n",
              "  </tbody>\n",
              "</table>\n",
              "</div>"
            ],
            "text/plain": [
              "                                               tweets  labels\n",
              "0   @AvonteNikole im followin your lil sis  she ju...       0\n",
              "1       @TimmyGrunt &quot;what a waste of eyes&quot;        0\n",
              "2   fusion brought it tonight! Love my church fam....       0\n",
              "3   @JackAllTimeLow @AlexAllTimeLow Have an AWESOM...       0\n",
              "4   @BigBOnTheRoad I say yes! Parking sucks and fo...       0\n",
              "5   Heading to the mall. Had a nice breakfast/conv...       0\n",
              "6   @lophty_heights, Hey how'd you find me on here...       0\n",
              "7   @mileycyrus Great movie and keep up the good w...       0\n",
              "8   Check out 'Cinema Bizarre - Melbourne, VIC' at...       0\n",
              "9                 goodnight  &amp; this one is final.       0\n",
              "10     What a lovely Saturday morning! I love winter        0\n",
              "11  More than 1 in 20 US children and teens have a...       1\n",
              "12  @mannykimchi technically first college year......       0\n",
              "13                     @ksprior post something moron        0\n",
              "14  the end of 2014 - 2016 , was my worst yrs <Emo...       1"
            ]
          },
          "metadata": {
            "tags": []
          },
          "execution_count": 45
        }
      ]
    },
    {
      "cell_type": "code",
      "metadata": {
        "id": "c5KW10ZSnpEg",
        "outputId": "0225986d-afa8-4d9b-e251-f75fb0d40a5f",
        "colab": {
          "base_uri": "https://localhost:8080/",
          "height": 286
        }
      },
      "source": [
        "data.tweets[:15]"
      ],
      "execution_count": null,
      "outputs": [
        {
          "output_type": "execute_result",
          "data": {
            "text/plain": [
              "0     @AvonteNikole im followin your lil sis  she ju...\n",
              "1         @TimmyGrunt &quot;what a waste of eyes&quot; \n",
              "2     fusion brought it tonight! Love my church fam....\n",
              "3     @JackAllTimeLow @AlexAllTimeLow Have an AWESOM...\n",
              "4     @BigBOnTheRoad I say yes! Parking sucks and fo...\n",
              "5     Heading to the mall. Had a nice breakfast/conv...\n",
              "6     @lophty_heights, Hey how'd you find me on here...\n",
              "7     @mileycyrus Great movie and keep up the good w...\n",
              "8     Check out 'Cinema Bizarre - Melbourne, VIC' at...\n",
              "9                   goodnight  &amp; this one is final.\n",
              "10       What a lovely Saturday morning! I love winter \n",
              "11    More than 1 in 20 US children and teens have a...\n",
              "12    @mannykimchi technically first college year......\n",
              "13                       @ksprior post something moron \n",
              "14    the end of 2014 - 2016 , was my worst yrs <Emo...\n",
              "Name: tweets, dtype: object"
            ]
          },
          "metadata": {
            "tags": []
          },
          "execution_count": 46
        }
      ]
    },
    {
      "cell_type": "code",
      "metadata": {
        "id": "YjijaOagoB08",
        "outputId": "96334255-982b-4354-e532-74aa42f001ac",
        "colab": {
          "base_uri": "https://localhost:8080/",
          "height": 34
        }
      },
      "source": [
        "print(data.tweets[11])"
      ],
      "execution_count": null,
      "outputs": [
        {
          "output_type": "stream",
          "text": [
            "More than 1 in 20 US children and teens have anxiety or depression  https://goo.gl/EN46R5Â \n"
          ],
          "name": "stdout"
        }
      ]
    },
    {
      "cell_type": "markdown",
      "metadata": {
        "id": "xDWaZRspoPE5"
      },
      "source": [
        "### 2. Preprocessing the Data\n",
        "\n",
        "*   Lowercasing\n",
        "*   Removal of non-alphabetical characters\n",
        "*   Tokenization\n",
        "*   Stop-word removal\n",
        "*   Stemming"
      ]
    },
    {
      "cell_type": "code",
      "metadata": {
        "id": "RqfsAd6foThp",
        "outputId": "287a0bce-c2a8-485f-ecc3-1eba73f7db2e",
        "colab": {
          "base_uri": "https://localhost:8080/",
          "height": 154
        }
      },
      "source": [
        "import nltk\n",
        "nltk.download('stopwords')\n",
        "nltk.download('punkt')\n",
        "nltk.download('wordnet')\n",
        "import re\n",
        "import string\n",
        "\n",
        "from nltk.tokenize import word_tokenize\n",
        "from nltk.corpus import stopwords\n",
        "from nltk.stem import PorterStemmer\n",
        "\n",
        "stop = stopwords.words('english')\n",
        "punc = string.punctuation\n",
        "print(stop)"
      ],
      "execution_count": null,
      "outputs": [
        {
          "output_type": "stream",
          "text": [
            "[nltk_data] Downloading package stopwords to /root/nltk_data...\n",
            "[nltk_data]   Package stopwords is already up-to-date!\n",
            "[nltk_data] Downloading package punkt to /root/nltk_data...\n",
            "[nltk_data]   Package punkt is already up-to-date!\n",
            "[nltk_data] Downloading package wordnet to /root/nltk_data...\n",
            "[nltk_data]   Package wordnet is already up-to-date!\n",
            "['i', 'me', 'my', 'myself', 'we', 'our', 'ours', 'ourselves', 'you', \"you're\", \"you've\", \"you'll\", \"you'd\", 'your', 'yours', 'yourself', 'yourselves', 'he', 'him', 'his', 'himself', 'she', \"she's\", 'her', 'hers', 'herself', 'it', \"it's\", 'its', 'itself', 'they', 'them', 'their', 'theirs', 'themselves', 'what', 'which', 'who', 'whom', 'this', 'that', \"that'll\", 'these', 'those', 'am', 'is', 'are', 'was', 'were', 'be', 'been', 'being', 'have', 'has', 'had', 'having', 'do', 'does', 'did', 'doing', 'a', 'an', 'the', 'and', 'but', 'if', 'or', 'because', 'as', 'until', 'while', 'of', 'at', 'by', 'for', 'with', 'about', 'against', 'between', 'into', 'through', 'during', 'before', 'after', 'above', 'below', 'to', 'from', 'up', 'down', 'in', 'out', 'on', 'off', 'over', 'under', 'again', 'further', 'then', 'once', 'here', 'there', 'when', 'where', 'why', 'how', 'all', 'any', 'both', 'each', 'few', 'more', 'most', 'other', 'some', 'such', 'no', 'nor', 'not', 'only', 'own', 'same', 'so', 'than', 'too', 'very', 's', 't', 'can', 'will', 'just', 'don', \"don't\", 'should', \"should've\", 'now', 'd', 'll', 'm', 'o', 're', 've', 'y', 'ain', 'aren', \"aren't\", 'couldn', \"couldn't\", 'didn', \"didn't\", 'doesn', \"doesn't\", 'hadn', \"hadn't\", 'hasn', \"hasn't\", 'haven', \"haven't\", 'isn', \"isn't\", 'ma', 'mightn', \"mightn't\", 'mustn', \"mustn't\", 'needn', \"needn't\", 'shan', \"shan't\", 'shouldn', \"shouldn't\", 'wasn', \"wasn't\", 'weren', \"weren't\", 'won', \"won't\", 'wouldn', \"wouldn't\"]\n"
          ],
          "name": "stdout"
        }
      ]
    },
    {
      "cell_type": "code",
      "metadata": {
        "id": "HXJGL0_VoaKv",
        "outputId": "85e4f8ee-e18e-48bb-8c3b-aa05c50fa9a9",
        "colab": {
          "base_uri": "https://localhost:8080/",
          "height": 34
        }
      },
      "source": [
        "# Lowercasing\n",
        "data['tweets'] = data['tweets'].str.lower()\n",
        "\n",
        "print(data.tweets[11])"
      ],
      "execution_count": null,
      "outputs": [
        {
          "output_type": "stream",
          "text": [
            "more than 1 in 20 us children and teens have anxiety or depression  https://goo.gl/en46r5â \n"
          ],
          "name": "stdout"
        }
      ]
    },
    {
      "cell_type": "code",
      "metadata": {
        "id": "BlbXR6Yrorz8",
        "outputId": "0b0babb6-1c68-408a-e126-f498f4983c2d",
        "colab": {
          "base_uri": "https://localhost:8080/",
          "height": 34
        }
      },
      "source": [
        "# Removing non-alphabetic characters\n",
        "data['tweets'] = data['tweets'].str.replace('[^a-z\\s]', '')\n",
        "\n",
        "print(data.tweets[11])"
      ],
      "execution_count": null,
      "outputs": [
        {
          "output_type": "stream",
          "text": [
            "more than  in  us children and teens have anxiety or depression  httpsgooglenr \n"
          ],
          "name": "stdout"
        }
      ]
    },
    {
      "cell_type": "code",
      "metadata": {
        "id": "sl9tFmLUo6e_",
        "outputId": "75c7bd37-af82-4c4b-ecc6-43575c7264ec",
        "colab": {
          "base_uri": "https://localhost:8080/",
          "height": 34
        }
      },
      "source": [
        "# Tokennization\n",
        "data['tweets'] = data['tweets'].apply(word_tokenize)\n",
        "\n",
        "print(data.tweets[11])"
      ],
      "execution_count": null,
      "outputs": [
        {
          "output_type": "stream",
          "text": [
            "['more', 'than', 'in', 'us', 'children', 'and', 'teens', 'have', 'anxiety', 'or', 'depression', 'httpsgooglenr']\n"
          ],
          "name": "stdout"
        }
      ]
    },
    {
      "cell_type": "code",
      "metadata": {
        "id": "Ix9KTgN-pHW-"
      },
      "source": [
        "# Removing stopwords and Stemming\n",
        "\n",
        "stemmer = PorterStemmer()\n",
        "\n",
        "def clean(df):\n",
        "  clean_tokens = []\n",
        "  for word in df:\n",
        "    if(word not in stop and word not in punc):\n",
        "      clean_tokens.append(stemmer.stem(word))\n",
        "  return clean_tokens\n",
        "\n",
        "data['tweets'] = data['tweets'].apply(clean)"
      ],
      "execution_count": null,
      "outputs": []
    },
    {
      "cell_type": "code",
      "metadata": {
        "id": "nGtzXg1DpPCX",
        "outputId": "570d4824-3d9a-4fcc-f314-d5f4c91ea5bb",
        "colab": {
          "base_uri": "https://localhost:8080/",
          "height": 34
        }
      },
      "source": [
        "print(data.tweets[11])"
      ],
      "execution_count": null,
      "outputs": [
        {
          "output_type": "stream",
          "text": [
            "['us', 'children', 'teen', 'anxieti', 'depress', 'httpsgooglenr']\n"
          ],
          "name": "stdout"
        }
      ]
    },
    {
      "cell_type": "code",
      "metadata": {
        "id": "kLO0KOtFpUn1",
        "outputId": "3c861b26-0716-4828-ebd0-352432050644",
        "colab": {
          "base_uri": "https://localhost:8080/",
          "height": 491
        }
      },
      "source": [
        "data.head(15)"
      ],
      "execution_count": null,
      "outputs": [
        {
          "output_type": "execute_result",
          "data": {
            "text/html": [
              "<div>\n",
              "<style scoped>\n",
              "    .dataframe tbody tr th:only-of-type {\n",
              "        vertical-align: middle;\n",
              "    }\n",
              "\n",
              "    .dataframe tbody tr th {\n",
              "        vertical-align: top;\n",
              "    }\n",
              "\n",
              "    .dataframe thead th {\n",
              "        text-align: right;\n",
              "    }\n",
              "</style>\n",
              "<table border=\"1\" class=\"dataframe\">\n",
              "  <thead>\n",
              "    <tr style=\"text-align: right;\">\n",
              "      <th></th>\n",
              "      <th>tweets</th>\n",
              "      <th>labels</th>\n",
              "    </tr>\n",
              "  </thead>\n",
              "  <tbody>\n",
              "    <tr>\n",
              "      <th>0</th>\n",
              "      <td>[avontenikol, im, followin, lil, si, got, twit...</td>\n",
              "      <td>0</td>\n",
              "    </tr>\n",
              "    <tr>\n",
              "      <th>1</th>\n",
              "      <td>[timmygrunt, quotwhat, wast, eyesquot]</td>\n",
              "      <td>0</td>\n",
              "    </tr>\n",
              "    <tr>\n",
              "      <th>2</th>\n",
              "      <td>[fusion, brought, tonight, love, church, famho...</td>\n",
              "      <td>0</td>\n",
              "    </tr>\n",
              "    <tr>\n",
              "      <th>3</th>\n",
              "      <td>[jackalltimelow, alexalltimelow, awesom, show,...</td>\n",
              "      <td>0</td>\n",
              "    </tr>\n",
              "    <tr>\n",
              "      <th>4</th>\n",
              "      <td>[bigbontheroad, say, ye, park, suck, food, rat...</td>\n",
              "      <td>0</td>\n",
              "    </tr>\n",
              "    <tr>\n",
              "      <th>5</th>\n",
              "      <td>[head, mall, nice, breakfastconvers, wmi, mom,...</td>\n",
              "      <td>0</td>\n",
              "    </tr>\n",
              "    <tr>\n",
              "      <th>6</th>\n",
              "      <td>[lophtyheight, hey, howd, find, your, pretti, ...</td>\n",
              "      <td>0</td>\n",
              "    </tr>\n",
              "    <tr>\n",
              "      <th>7</th>\n",
              "      <td>[mileycyru, great, movi, keep, good, work]</td>\n",
              "      <td>0</td>\n",
              "    </tr>\n",
              "    <tr>\n",
              "      <th>8</th>\n",
              "      <td>[check, cinema, bizarr, melbourn, vic, eventfu...</td>\n",
              "      <td>0</td>\n",
              "    </tr>\n",
              "    <tr>\n",
              "      <th>9</th>\n",
              "      <td>[goodnight, amp, one, final]</td>\n",
              "      <td>0</td>\n",
              "    </tr>\n",
              "    <tr>\n",
              "      <th>10</th>\n",
              "      <td>[love, saturday, morn, love, winter]</td>\n",
              "      <td>0</td>\n",
              "    </tr>\n",
              "    <tr>\n",
              "      <th>11</th>\n",
              "      <td>[us, children, teen, anxieti, depress, httpsgo...</td>\n",
              "      <td>1</td>\n",
              "    </tr>\n",
              "    <tr>\n",
              "      <th>12</th>\n",
              "      <td>[mannykimchi, technic, first, colleg, yearcaus...</td>\n",
              "      <td>0</td>\n",
              "    </tr>\n",
              "    <tr>\n",
              "      <th>13</th>\n",
              "      <td>[ksprior, post, someth, moron]</td>\n",
              "      <td>0</td>\n",
              "    </tr>\n",
              "    <tr>\n",
              "      <th>14</th>\n",
              "      <td>[end, worst, yr, emoji, face, tear, joy, reall...</td>\n",
              "      <td>1</td>\n",
              "    </tr>\n",
              "  </tbody>\n",
              "</table>\n",
              "</div>"
            ],
            "text/plain": [
              "                                               tweets  labels\n",
              "0   [avontenikol, im, followin, lil, si, got, twit...       0\n",
              "1              [timmygrunt, quotwhat, wast, eyesquot]       0\n",
              "2   [fusion, brought, tonight, love, church, famho...       0\n",
              "3   [jackalltimelow, alexalltimelow, awesom, show,...       0\n",
              "4   [bigbontheroad, say, ye, park, suck, food, rat...       0\n",
              "5   [head, mall, nice, breakfastconvers, wmi, mom,...       0\n",
              "6   [lophtyheight, hey, howd, find, your, pretti, ...       0\n",
              "7          [mileycyru, great, movi, keep, good, work]       0\n",
              "8   [check, cinema, bizarr, melbourn, vic, eventfu...       0\n",
              "9                        [goodnight, amp, one, final]       0\n",
              "10               [love, saturday, morn, love, winter]       0\n",
              "11  [us, children, teen, anxieti, depress, httpsgo...       1\n",
              "12  [mannykimchi, technic, first, colleg, yearcaus...       0\n",
              "13                     [ksprior, post, someth, moron]       0\n",
              "14  [end, worst, yr, emoji, face, tear, joy, reall...       1"
            ]
          },
          "metadata": {
            "tags": []
          },
          "execution_count": 54
        }
      ]
    },
    {
      "cell_type": "markdown",
      "metadata": {
        "id": "FzjJtGrIpdcY"
      },
      "source": [
        "### 3. Analysis of Data (Word Frequency Distribution Analysis)"
      ]
    },
    {
      "cell_type": "code",
      "metadata": {
        "id": "rh9AczW4pie1"
      },
      "source": [
        "from nltk.probability import FreqDist\n",
        "\n",
        "fdist = FreqDist()\n",
        "for doc in data.tweets:\n",
        "  for word in doc:\n",
        "    fdist[word] +=1"
      ],
      "execution_count": null,
      "outputs": []
    },
    {
      "cell_type": "code",
      "metadata": {
        "id": "iB7ltJSgpq8P",
        "outputId": "d864a94d-65aa-44a0-b0c1-ad8a0d69431c",
        "colab": {
          "base_uri": "https://localhost:8080/",
          "height": 54
        }
      },
      "source": [
        "vocab = fdist.most_common(50)\n",
        "print(vocab)"
      ],
      "execution_count": null,
      "outputs": [
        {
          "output_type": "stream",
          "text": [
            "[('depress', 1189), ('im', 537), ('good', 382), ('go', 373), ('love', 368), ('day', 340), ('get', 329), ('like', 300), ('thank', 295), ('time', 245), ('know', 216), ('dont', 209), ('u', 198), ('one', 193), ('lol', 192), ('today', 186), ('got', 182), ('work', 181), ('see', 180), ('think', 178), ('anxieti', 166), ('back', 166), ('new', 165), ('hope', 157), ('make', 156), ('feel', 154), ('night', 151), ('great', 150), ('well', 148), ('watch', 147), ('realli', 147), ('twitter', 138), ('much', 138), ('look', 136), ('peopl', 133), ('cant', 127), ('amp', 125), ('ill', 124), ('morn', 123), ('want', 122), ('haha', 121), ('come', 120), ('need', 118), ('na', 118), ('happi', 117), ('thing', 117), ('help', 116), ('your', 113), ('friend', 110), ('fun', 109)]\n"
          ],
          "name": "stdout"
        }
      ]
    },
    {
      "cell_type": "code",
      "metadata": {
        "id": "5hws40_wp0Hv",
        "outputId": "0865995e-b9ef-4971-871d-cbd8db61b0e1",
        "colab": {
          "base_uri": "https://localhost:8080/",
          "height": 54
        }
      },
      "source": [
        "# Storing the most common 50 words in a list\n",
        "\n",
        "lst = [tup[0] for tup in vocab]\n",
        "print(lst)"
      ],
      "execution_count": null,
      "outputs": [
        {
          "output_type": "stream",
          "text": [
            "['depress', 'im', 'good', 'go', 'love', 'day', 'get', 'like', 'thank', 'time', 'know', 'dont', 'u', 'one', 'lol', 'today', 'got', 'work', 'see', 'think', 'anxieti', 'back', 'new', 'hope', 'make', 'feel', 'night', 'great', 'well', 'watch', 'realli', 'twitter', 'much', 'look', 'peopl', 'cant', 'amp', 'ill', 'morn', 'want', 'haha', 'come', 'need', 'na', 'happi', 'thing', 'help', 'your', 'friend', 'fun']\n"
          ],
          "name": "stdout"
        }
      ]
    },
    {
      "cell_type": "code",
      "metadata": {
        "id": "zM5Ecw3Qp_-7"
      },
      "source": [
        "with open('nlargest.txt', 'w') as f:\n",
        "  for item in lst:\n",
        "    f.write(\"%s\\n\" % item)"
      ],
      "execution_count": null,
      "outputs": []
    },
    {
      "cell_type": "markdown",
      "metadata": {
        "id": "kUnIm-5mqIHk"
      },
      "source": [
        "### 4. Feature Preparation"
      ]
    },
    {
      "cell_type": "code",
      "metadata": {
        "id": "rnz6AilPqJOM"
      },
      "source": [
        "from sklearn.feature_extraction.text import TfidfVectorizer, TfidfTransformer, CountVectorizer\n",
        "from sklearn.naive_bayes import MultinomialNB"
      ],
      "execution_count": null,
      "outputs": []
    },
    {
      "cell_type": "code",
      "metadata": {
        "id": "6A_tOiyFqMwD",
        "outputId": "981f7a78-5486-4691-8a84-6a4bb4c8769c",
        "colab": {
          "base_uri": "https://localhost:8080/",
          "height": 491
        }
      },
      "source": [
        "#Preparing data to create TF-IDF features\n",
        "\n",
        "d = data.tweets\n",
        "merged = []\n",
        "for doc in d:\n",
        "  merged.append((' '.join(doc)))\n",
        "\n",
        "data.tweets = merged\n",
        "data.head(15)"
      ],
      "execution_count": null,
      "outputs": [
        {
          "output_type": "execute_result",
          "data": {
            "text/html": [
              "<div>\n",
              "<style scoped>\n",
              "    .dataframe tbody tr th:only-of-type {\n",
              "        vertical-align: middle;\n",
              "    }\n",
              "\n",
              "    .dataframe tbody tr th {\n",
              "        vertical-align: top;\n",
              "    }\n",
              "\n",
              "    .dataframe thead th {\n",
              "        text-align: right;\n",
              "    }\n",
              "</style>\n",
              "<table border=\"1\" class=\"dataframe\">\n",
              "  <thead>\n",
              "    <tr style=\"text-align: right;\">\n",
              "      <th></th>\n",
              "      <th>tweets</th>\n",
              "      <th>labels</th>\n",
              "    </tr>\n",
              "  </thead>\n",
              "  <tbody>\n",
              "    <tr>\n",
              "      <th>0</th>\n",
              "      <td>avontenikol im followin lil si got twitter</td>\n",
              "      <td>0</td>\n",
              "    </tr>\n",
              "    <tr>\n",
              "      <th>1</th>\n",
              "      <td>timmygrunt quotwhat wast eyesquot</td>\n",
              "      <td>0</td>\n",
              "    </tr>\n",
              "    <tr>\n",
              "      <th>2</th>\n",
              "      <td>fusion brought tonight love church famhop know...</td>\n",
              "      <td>0</td>\n",
              "    </tr>\n",
              "    <tr>\n",
              "      <th>3</th>\n",
              "      <td>jackalltimelow alexalltimelow awesom show toni...</td>\n",
              "      <td>0</td>\n",
              "    </tr>\n",
              "    <tr>\n",
              "      <th>4</th>\n",
              "      <td>bigbontheroad say ye park suck food rate order...</td>\n",
              "      <td>0</td>\n",
              "    </tr>\n",
              "    <tr>\n",
              "      <th>5</th>\n",
              "      <td>head mall nice breakfastconvers wmi mom denni</td>\n",
              "      <td>0</td>\n",
              "    </tr>\n",
              "    <tr>\n",
              "      <th>6</th>\n",
              "      <td>lophtyheight hey howd find your pretti interest</td>\n",
              "      <td>0</td>\n",
              "    </tr>\n",
              "    <tr>\n",
              "      <th>7</th>\n",
              "      <td>mileycyru great movi keep good work</td>\n",
              "      <td>0</td>\n",
              "    </tr>\n",
              "    <tr>\n",
              "      <th>8</th>\n",
              "      <td>check cinema bizarr melbourn vic eventfulcom h...</td>\n",
              "      <td>0</td>\n",
              "    </tr>\n",
              "    <tr>\n",
              "      <th>9</th>\n",
              "      <td>goodnight amp one final</td>\n",
              "      <td>0</td>\n",
              "    </tr>\n",
              "    <tr>\n",
              "      <th>10</th>\n",
              "      <td>love saturday morn love winter</td>\n",
              "      <td>0</td>\n",
              "    </tr>\n",
              "    <tr>\n",
              "      <th>11</th>\n",
              "      <td>us children teen anxieti depress httpsgooglenr</td>\n",
              "      <td>1</td>\n",
              "    </tr>\n",
              "    <tr>\n",
              "      <th>12</th>\n",
              "      <td>mannykimchi technic first colleg yearcaus im s...</td>\n",
              "      <td>0</td>\n",
              "    </tr>\n",
              "    <tr>\n",
              "      <th>13</th>\n",
              "      <td>ksprior post someth moron</td>\n",
              "      <td>0</td>\n",
              "    </tr>\n",
              "    <tr>\n",
              "      <th>14</th>\n",
              "      <td>end worst yr emoji face tear joy realli depress</td>\n",
              "      <td>1</td>\n",
              "    </tr>\n",
              "  </tbody>\n",
              "</table>\n",
              "</div>"
            ],
            "text/plain": [
              "                                               tweets  labels\n",
              "0          avontenikol im followin lil si got twitter       0\n",
              "1                   timmygrunt quotwhat wast eyesquot       0\n",
              "2   fusion brought tonight love church famhop know...       0\n",
              "3   jackalltimelow alexalltimelow awesom show toni...       0\n",
              "4   bigbontheroad say ye park suck food rate order...       0\n",
              "5       head mall nice breakfastconvers wmi mom denni       0\n",
              "6     lophtyheight hey howd find your pretti interest       0\n",
              "7                 mileycyru great movi keep good work       0\n",
              "8   check cinema bizarr melbourn vic eventfulcom h...       0\n",
              "9                             goodnight amp one final       0\n",
              "10                     love saturday morn love winter       0\n",
              "11     us children teen anxieti depress httpsgooglenr       1\n",
              "12  mannykimchi technic first colleg yearcaus im s...       0\n",
              "13                          ksprior post someth moron       0\n",
              "14    end worst yr emoji face tear joy realli depress       1"
            ]
          },
          "metadata": {
            "tags": []
          },
          "execution_count": 60
        }
      ]
    },
    {
      "cell_type": "code",
      "metadata": {
        "id": "U-7VugrEqYWV"
      },
      "source": [
        "# Create TFfidVectorizer object\n",
        "vectorizer = TfidfVectorizer(ngram_range=(1,2))\n",
        "\n",
        "# Generate matrix of word vectors\n",
        "tfidf_matrix = vectorizer.fit_transform(data.tweets)"
      ],
      "execution_count": null,
      "outputs": []
    },
    {
      "cell_type": "code",
      "metadata": {
        "id": "Up4F2DfPro4p",
        "outputId": "4b733215-5300-4b9e-d0b7-f233a7270c41",
        "colab": {
          "base_uri": "https://localhost:8080/",
          "height": 34
        }
      },
      "source": [
        "print(tfidf_matrix.shape)"
      ],
      "execution_count": null,
      "outputs": [
        {
          "output_type": "stream",
          "text": [
            "(5312, 47835)\n"
          ],
          "name": "stdout"
        }
      ]
    },
    {
      "cell_type": "markdown",
      "metadata": {
        "id": "hLgSt9uErtgy"
      },
      "source": [
        "### 5. Training the DataSet\n",
        "The multinomial Naive Bayes classifier is suitable for classification with discrete features (e.g., word counts for text classification). The multinomial distribution normally requires integer feature counts. However, in practice, fractional counts such as tf-idf may also work."
      ]
    },
    {
      "cell_type": "code",
      "metadata": {
        "id": "ltIR5E_BrzjR"
      },
      "source": [
        "from sklearn.model_selection import train_test_split\n",
        "x_train, x_test, y_train, y_test = train_test_split(tfidf_matrix, data.labels, test_size=0.20, random_state=42)"
      ],
      "execution_count": null,
      "outputs": []
    },
    {
      "cell_type": "code",
      "metadata": {
        "id": "tnLqW7IjsCfI",
        "outputId": "ebf119c1-8b15-47e6-ada0-7cb40c7aa89c",
        "colab": {
          "base_uri": "https://localhost:8080/",
          "height": 34
        }
      },
      "source": [
        "print(x_train.shape)"
      ],
      "execution_count": null,
      "outputs": [
        {
          "output_type": "stream",
          "text": [
            "(4249, 47835)\n"
          ],
          "name": "stdout"
        }
      ]
    },
    {
      "cell_type": "code",
      "metadata": {
        "id": "7E6H-qLusHGn",
        "outputId": "317f2229-13e3-4aaf-f397-8d67fccdc7d0",
        "colab": {
          "base_uri": "https://localhost:8080/",
          "height": 34
        }
      },
      "source": [
        "clf = MultinomialNB()\n",
        "clf.fit(x_train, y_train)"
      ],
      "execution_count": null,
      "outputs": [
        {
          "output_type": "execute_result",
          "data": {
            "text/plain": [
              "MultinomialNB(alpha=1.0, class_prior=None, fit_prior=True)"
            ]
          },
          "metadata": {
            "tags": []
          },
          "execution_count": 84
        }
      ]
    },
    {
      "cell_type": "code",
      "metadata": {
        "id": "4SNZxlsasKTp"
      },
      "source": [
        "preds = clf.predict(x_test)"
      ],
      "execution_count": null,
      "outputs": []
    },
    {
      "cell_type": "code",
      "metadata": {
        "id": "GlD0dFnssPqj",
        "outputId": "2bd66a32-65fc-445c-f9e6-cf7bfd457b8b",
        "colab": {
          "base_uri": "https://localhost:8080/",
          "height": 50
        }
      },
      "source": [
        "from sklearn.metrics import confusion_matrix\n",
        "confusion_matrix(y_test, preds)"
      ],
      "execution_count": null,
      "outputs": [
        {
          "output_type": "execute_result",
          "data": {
            "text/plain": [
              "array([[836,   0],\n",
              "       [168,  59]])"
            ]
          },
          "metadata": {
            "tags": []
          },
          "execution_count": 86
        }
      ]
    },
    {
      "cell_type": "code",
      "metadata": {
        "id": "pAwmCi2TsSrt",
        "outputId": "4a670e3c-5e42-4753-e4a2-255c8e480792",
        "colab": {
          "base_uri": "https://localhost:8080/",
          "height": 34
        }
      },
      "source": [
        "from sklearn.metrics import accuracy_score\n",
        "accuracy_score(y_test, preds)"
      ],
      "execution_count": null,
      "outputs": [
        {
          "output_type": "execute_result",
          "data": {
            "text/plain": [
              "0.8419567262464722"
            ]
          },
          "metadata": {
            "tags": []
          },
          "execution_count": 87
        }
      ]
    }
  ]
}